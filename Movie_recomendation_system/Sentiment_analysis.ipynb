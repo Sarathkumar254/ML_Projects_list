{
 "cells": [
  {
   "cell_type": "code",
   "execution_count": 2,
   "id": "980d98c2",
   "metadata": {},
   "outputs": [],
   "source": [
    "# importing essential the libraries\n",
    "import pandas as pd\n",
    "import numpy as np"
   ]
  },
  {
   "cell_type": "code",
   "execution_count": 3,
   "id": "22aa8ac2",
   "metadata": {},
   "outputs": [],
   "source": [
    "# reading the text fprmatted data and add the resonable coloum names to it\n",
    "dataset = pd.read_csv('datasets/reviews.txt', delimiter='\\t', names=[\"reviews\", \"comments\"])"
   ]
  },
  {
   "cell_type": "code",
   "execution_count": 4,
   "id": "28fb3784",
   "metadata": {},
   "outputs": [
    {
     "data": {
      "text/html": [
       "<div>\n",
       "<style scoped>\n",
       "    .dataframe tbody tr th:only-of-type {\n",
       "        vertical-align: middle;\n",
       "    }\n",
       "\n",
       "    .dataframe tbody tr th {\n",
       "        vertical-align: top;\n",
       "    }\n",
       "\n",
       "    .dataframe thead th {\n",
       "        text-align: right;\n",
       "    }\n",
       "</style>\n",
       "<table border=\"1\" class=\"dataframe\">\n",
       "  <thead>\n",
       "    <tr style=\"text-align: right;\">\n",
       "      <th></th>\n",
       "      <th>reviews</th>\n",
       "      <th>comments</th>\n",
       "    </tr>\n",
       "  </thead>\n",
       "  <tbody>\n",
       "    <tr>\n",
       "      <th>0</th>\n",
       "      <td>1</td>\n",
       "      <td>The Da Vinci Code book is just awesome.</td>\n",
       "    </tr>\n",
       "    <tr>\n",
       "      <th>1</th>\n",
       "      <td>1</td>\n",
       "      <td>this was the first clive cussler i've ever rea...</td>\n",
       "    </tr>\n",
       "    <tr>\n",
       "      <th>2</th>\n",
       "      <td>1</td>\n",
       "      <td>i liked the Da Vinci Code a lot.</td>\n",
       "    </tr>\n",
       "    <tr>\n",
       "      <th>3</th>\n",
       "      <td>1</td>\n",
       "      <td>i liked the Da Vinci Code a lot.</td>\n",
       "    </tr>\n",
       "    <tr>\n",
       "      <th>4</th>\n",
       "      <td>1</td>\n",
       "      <td>I liked the Da Vinci Code but it ultimatly did...</td>\n",
       "    </tr>\n",
       "  </tbody>\n",
       "</table>\n",
       "</div>"
      ],
      "text/plain": [
       "   reviews                                           comments\n",
       "0        1            The Da Vinci Code book is just awesome.\n",
       "1        1  this was the first clive cussler i've ever rea...\n",
       "2        1                   i liked the Da Vinci Code a lot.\n",
       "3        1                   i liked the Da Vinci Code a lot.\n",
       "4        1  I liked the Da Vinci Code but it ultimatly did..."
      ]
     },
     "execution_count": 4,
     "metadata": {},
     "output_type": "execute_result"
    }
   ],
   "source": [
    "dataset.head()"
   ]
  },
  {
   "cell_type": "code",
   "execution_count": 5,
   "id": "98c59214",
   "metadata": {},
   "outputs": [
    {
     "name": "stderr",
     "output_type": "stream",
     "text": [
      "[nltk_data] Downloading package stopwords to\n",
      "[nltk_data]     C:\\Users\\hp\\AppData\\Roaming\\nltk_data...\n",
      "[nltk_data]   Package stopwords is already up-to-date!\n"
     ]
    }
   ],
   "source": [
    "# downloading the stopwords \n",
    "#English words which does not add much meaning to a sentence(stopwords)\n",
    "import nltk\n",
    "from nltk.corpus import stopwords\n",
    "nltk.download('stopwords')\n",
    "stopwords = stopwords.words('English')"
   ]
  },
  {
   "cell_type": "code",
   "execution_count": 6,
   "id": "94c8f67d",
   "metadata": {},
   "outputs": [
    {
     "data": {
      "text/plain": [
       "179"
      ]
     },
     "execution_count": 6,
     "metadata": {},
     "output_type": "execute_result"
    }
   ],
   "source": [
    "len(set(stopwords))# there are 179 stop words are avialable in the nltk"
   ]
  },
  {
   "cell_type": "code",
   "execution_count": 7,
   "id": "6ed09bca",
   "metadata": {},
   "outputs": [
    {
     "data": {
      "text/plain": [
       "(6918, 2)"
      ]
     },
     "execution_count": 7,
     "metadata": {},
     "output_type": "execute_result"
    }
   ],
   "source": [
    "dataset.shape"
   ]
  },
  {
   "cell_type": "code",
   "execution_count": 8,
   "id": "fb3b23a9",
   "metadata": {},
   "outputs": [],
   "source": [
    "#TF-IDF which means Term Frequency and Inverse Document Frequency\n",
    "# TF - term frequency and IDF - Inverse document frequency\n",
    "# TF= How frequently a term occuring in the doccument ==> (Number of times term 't' appeared in the doccument)/(total number of terms in the whole doccuments)\n",
    "#IDF = Log(total number of doccuments)/log(number of times the term 't' in it)\n",
    "# TFIDF = TF(Value)*IDF(Value)\n",
    "from sklearn.feature_extraction.text import TfidfVectorizer\n",
    "vectorizer = TfidfVectorizer(use_idf=True, lowercase=True, strip_accents='ascii', stop_words=stopwords)"
   ]
  },
  {
   "cell_type": "code",
   "execution_count": 9,
   "id": "3225864d",
   "metadata": {},
   "outputs": [],
   "source": [
    "# differentiating the dependent and independent features in the dataset\n",
    "x = dataset.comments\n",
    "y = dataset.reviews\n",
    "X = vectorizer.fit_transform(x)"
   ]
  },
  {
   "cell_type": "code",
   "execution_count": 10,
   "id": "ca9ace66",
   "metadata": {},
   "outputs": [],
   "source": [
    "# storing the values pickle file\n",
    "import pickle\n",
    "pickle.dump(vectorizer, open(\"pickle_file.pkl\", \"wb\"))"
   ]
  },
  {
   "cell_type": "code",
   "execution_count": 11,
   "id": "6cd517fb",
   "metadata": {},
   "outputs": [],
   "source": [
    "# Split the dataset into train and test sets\n",
    "from sklearn.model_selection import train_test_split\n",
    "x_train, x_test, y_train, y_test = train_test_split(X, y, test_size=0.25, random_state=42)"
   ]
  },
  {
   "cell_type": "code",
   "execution_count": 12,
   "id": "f8dc7e2b",
   "metadata": {},
   "outputs": [],
   "source": [
    "# apply the naive bayes theorm to classify wheather the the reviews are good or bad\n",
    "from sklearn.naive_bayes import MultinomialNB\n",
    "clf = MultinomialNB()\n",
    "clf.fit(x_train, y_train)\n",
    "y_pred = clf.predict(x_test)"
   ]
  },
  {
   "cell_type": "code",
   "execution_count": 13,
   "id": "e0226bf4",
   "metadata": {},
   "outputs": [
    {
     "data": {
      "text/plain": [
       "1    3943\n",
       "0    2975\n",
       "Name: reviews, dtype: int64"
      ]
     },
     "execution_count": 13,
     "metadata": {},
     "output_type": "execute_result"
    }
   ],
   "source": [
    "# its looks balanced dataset so accuracy score will be the best option to evaluate the model\n",
    "dataset['reviews'].value_counts()"
   ]
  },
  {
   "cell_type": "code",
   "execution_count": 46,
   "id": "e43dd310",
   "metadata": {},
   "outputs": [],
   "source": [
    "# check the accuracy of the model\n",
    "from sklearn.metrics import accuracy_score, confusion_matrix"
   ]
  },
  {
   "cell_type": "code",
   "execution_count": 47,
   "id": "eb97c6f9",
   "metadata": {},
   "outputs": [
    {
     "data": {
      "text/plain": [
       "97.16763005780346"
      ]
     },
     "execution_count": 47,
     "metadata": {},
     "output_type": "execute_result"
    }
   ],
   "source": [
    "accuracy_score(y_test, y_pred)*100"
   ]
  },
  {
   "cell_type": "code",
   "execution_count": 48,
   "id": "9e5080f5",
   "metadata": {},
   "outputs": [
    {
     "data": {
      "text/plain": [
       "array([[704,  34],\n",
       "       [ 15, 977]], dtype=int64)"
      ]
     },
     "execution_count": 48,
     "metadata": {},
     "output_type": "execute_result"
    }
   ],
   "source": [
    "confusion_matrix(y_test, y_pred)"
   ]
  },
  {
   "cell_type": "markdown",
   "id": "6326be4f",
   "metadata": {},
   "source": [
    "## Movie Recomendation system"
   ]
  },
  {
   "cell_type": "code",
   "execution_count": 16,
   "id": "c53f80d4",
   "metadata": {},
   "outputs": [],
   "source": [
    "# preformatted data\n",
    "data = pd.read_csv('main_data.csv')"
   ]
  },
  {
   "cell_type": "code",
   "execution_count": 17,
   "id": "855f511c",
   "metadata": {},
   "outputs": [],
   "source": [
    "from sklearn.feature_extraction.text import CountVectorizer\n",
    "cv = CountVectorizer()"
   ]
  },
  {
   "cell_type": "code",
   "execution_count": 18,
   "id": "f3c421a7",
   "metadata": {},
   "outputs": [],
   "source": [
    "cv_m=cv.fit_transform(data['comb'])"
   ]
  },
  {
   "cell_type": "code",
   "execution_count": 19,
   "id": "0923bfd1",
   "metadata": {},
   "outputs": [],
   "source": [
    "#Cosine similarity measures the similarity between two vectors of an inner product space. \n",
    "#It is measured by the cosine of the angle between two vectors and determines whether two vectors are pointing \n",
    "#in roughly the same direction. It is often used to measure document similarity in text analysis\n",
    "from sklearn.metrics.pairwise import cosine_similarity"
   ]
  },
  {
   "cell_type": "code",
   "execution_count": 20,
   "id": "5a371439",
   "metadata": {},
   "outputs": [],
   "source": [
    "similarity = cosine_similarity(cv_m)"
   ]
  },
  {
   "cell_type": "code",
   "execution_count": 40,
   "id": "9d99b9ff",
   "metadata": {},
   "outputs": [],
   "source": [
    "i=data.loc[data['movie_title']==\"the invisible man\"].index[0]"
   ]
  },
  {
   "cell_type": "code",
   "execution_count": 41,
   "id": "66eba01d",
   "metadata": {},
   "outputs": [],
   "source": [
    "lst=list(enumerate(similarity[i]))"
   ]
  },
  {
   "cell_type": "code",
   "execution_count": 42,
   "id": "f2e3c0fa",
   "metadata": {},
   "outputs": [],
   "source": [
    "lst = sorted(lst, key = lambda x:x[1] ,reverse=True)"
   ]
  },
  {
   "cell_type": "code",
   "execution_count": 43,
   "id": "81b4a982",
   "metadata": {},
   "outputs": [],
   "source": [
    "lst = lst[1:11]"
   ]
  },
  {
   "cell_type": "code",
   "execution_count": 44,
   "id": "179ac857",
   "metadata": {},
   "outputs": [
    {
     "name": "stdout",
     "output_type": "stream",
     "text": [
      "['underwater', 'possessor', 'shirley', 'books of blood', 'deep blue sea 3', 'the new mutants', 'tenet', 'archenemy', 'the turning', 'we summon the darkness']\n"
     ]
    }
   ],
   "source": [
    "l = []\n",
    "for i in range(len(lst)):\n",
    "    a = lst[i][0]\n",
    "    l.append(data['movie_title'][a])\n",
    "print(l)"
   ]
  },
  {
   "cell_type": "code",
   "execution_count": null,
   "id": "627d0621",
   "metadata": {},
   "outputs": [],
   "source": []
  },
  {
   "cell_type": "code",
   "execution_count": null,
   "id": "b4007e99",
   "metadata": {},
   "outputs": [],
   "source": []
  }
 ],
 "metadata": {
  "kernelspec": {
   "display_name": "Python 3",
   "language": "python",
   "name": "python3"
  },
  "language_info": {
   "codemirror_mode": {
    "name": "ipython",
    "version": 3
   },
   "file_extension": ".py",
   "mimetype": "text/x-python",
   "name": "python",
   "nbconvert_exporter": "python",
   "pygments_lexer": "ipython3",
   "version": "3.8.8"
  }
 },
 "nbformat": 4,
 "nbformat_minor": 5
}
